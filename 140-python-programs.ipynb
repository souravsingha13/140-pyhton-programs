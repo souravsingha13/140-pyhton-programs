{
 "cells": [
  {
   "cell_type": "code",
   "execution_count": 3,
   "id": "d3f7fe51",
   "metadata": {},
   "outputs": [
    {
     "name": "stdout",
     "output_type": "stream",
     "text": [
      "Enter first number for addition: 3\n",
      "Enter second number for addition: 4\n",
      "Sum of 3.0 and 4.0 is equal 7.0\n",
      "Enter first number for division: 6\n",
      "Enter second number for division: 2\n",
      "Divison of 6.0 and 2.0 is equal 3.0\n"
     ]
    }
   ],
   "source": [
    "#Write a Python program to do arithmetical operations addition and division.\n",
    "# Addition\n",
    "num1 = float(input(\"Enter first number for addition: \"))\n",
    "num2 = float(input(\"Enter second number for addition: \"))\n",
    "sum_result = num1 + num2\n",
    "print(f\"Sum of {num1} and {num2} is equal {sum_result}\")\n",
    "\n",
    "# Division\n",
    "num3 = float(input(\"Enter first number for division: \"))\n",
    "num4 = float(input(\"Enter second number for division: \"))\n",
    "if(num4 == 0):\n",
    "    print(\"Error: Division by zero is not allowed.\")\n",
    "else:\n",
    "    div_result = num3/num4\n",
    "    print(f\"Divison of {num3} and {num4} is equal {div_result}\")"
   ]
  },
  {
   "cell_type": "code",
   "execution_count": 5,
   "id": "e7b40c0b",
   "metadata": {},
   "outputs": [
    {
     "name": "stdout",
     "output_type": "stream",
     "text": [
      "Enter the base of triangle : 3\n",
      "Enter the base of triangle : 4\n",
      "6.0\n"
     ]
    }
   ],
   "source": [
    "#Write a Python program to find the area of a triangle.\n",
    "\n",
    "def find_triangle_area(base, hieght):\n",
    "    area = 0.5*base*height\n",
    "    return area\n",
    "base = float(input(\"Enter the base of triangle : \"))\n",
    "height = float(input(\"Enter the height of triangle : \"))\n",
    "area = find_triangle_area(base, height)\n",
    "print(area)"
   ]
  },
  {
   "cell_type": "code",
   "execution_count": 2,
   "id": "17567251",
   "metadata": {},
   "outputs": [
    {
     "name": "stdout",
     "output_type": "stream",
     "text": [
      "Enter the first number : 3\n",
      "Enter the second number : 4\n",
      "(4.0, 3.0)\n"
     ]
    }
   ],
   "source": [
    "#Write a Python program to swap two variables.\n",
    "def swap_two_variable(num1, num2):\n",
    "    temp = num1\n",
    "    num1 = num2\n",
    "    num2 = temp\n",
    "    return(num1, num2)\n",
    "num1 = float(input(\"Enter the first number : \"))\n",
    "num2 = float(input(\"Enter the second number : \"))\n",
    "swaped_result = swap_two_variable(num1, num2)\n",
    "print(swaped_result)"
   ]
  },
  {
   "cell_type": "code",
   "execution_count": 4,
   "id": "460cf152",
   "metadata": {},
   "outputs": [
    {
     "name": "stdout",
     "output_type": "stream",
     "text": [
      "Random number: 857\n"
     ]
    }
   ],
   "source": [
    "import random\n",
    "print(f\"Random number: {random.randint(1, 100)}\")"
   ]
  },
  {
   "cell_type": "code",
   "execution_count": 3,
   "id": "75c8ab82",
   "metadata": {},
   "outputs": [
    {
     "name": "stdout",
     "output_type": "stream",
     "text": [
      "How much kilometer you want to convert : 32\n",
      "19.883872\n"
     ]
    }
   ],
   "source": [
    "#Write a Python program to convert kilometers to miles.\n",
    "def kilometers_to_miles():\n",
    "    conversion_factor = 0.621371\n",
    "    kilometers = float(input(\"How much kilometer you want to convert : \"))\n",
    "    return kilometers * conversion_factor\n",
    "\n",
    "miles = kilometers_to_miles()\n",
    "print(miles)"
   ]
  },
  {
   "cell_type": "code",
   "execution_count": 5,
   "id": "04c17af6",
   "metadata": {},
   "outputs": [
    {
     "name": "stdout",
     "output_type": "stream",
     "text": [
      "Enter a temperature in Celsius :37\n",
      "98.60000000000001\n"
     ]
    }
   ],
   "source": [
    "#Write a Python program to convert Celsius to Fahrenheit.\n",
    "def celsius_to_fahrenheit():\n",
    "    celsius = float(input(\"Enter a temperature in Celsius :\"))\n",
    "    fahrenheit = (1.8*celsius) + 32\n",
    "    return fahrenheit\n",
    "\n",
    "fahrenheit = celsius_to_fahrenheit()\n",
    "print(fahrenheit)\n",
    "\n",
    "    \n"
   ]
  },
  {
   "cell_type": "code",
   "execution_count": 13,
   "id": "d153ce50",
   "metadata": {},
   "outputs": [
    {
     "name": "stdout",
     "output_type": "stream",
     "text": [
      "Enter a : 1\n",
      "Enter b : 4\n",
      "Enter c : 8\n",
      "-16.0\n",
      "x1 : -2.0 + 2.0i and x2 : -2.0 - 2.0i\n"
     ]
    }
   ],
   "source": [
    "#Write a Python program to solve quadratic equation.\n",
    "import math\n",
    "def find_x_of_quadratic_equation():\n",
    "    a = float(input(\"Enter a : \"))\n",
    "    b = float(input(\"Enter b : \"))\n",
    "    c = float(input(\"Enter c : \"))\n",
    "    \n",
    "    determinant = b**2 -4*c*a\n",
    "    print(determinant)\n",
    "    if determinant > 0:\n",
    "        x1 = (-b + math.sqrt(determinant))/(2*a)\n",
    "        x2 = (-b - math.sqrt(determinant))/(2*a)\n",
    "        result = f\"x1 : {round(x1,2)} and x2 : {round(x2,2)}\"\n",
    "        return result\n",
    "    if determinant == 0:\n",
    "        x1 = x2 = -b/(2*a)\n",
    "        result = f\"x1 : {round(x1,2)} and x2 : {round(x2,2)}\"\n",
    "        return result\n",
    "    if determinant < 0:\n",
    "        imaginary_part = math.sqrt(abs(determinant))/(2*a)\n",
    "        real_part = -b/(2*a)\n",
    "        x1 = f\"x1 : {round(real_part,2)} + {round(imaginary_part,2)}i\"\n",
    "        x2 = f\"x2 : {round(real_part,2)} - {round(imaginary_part,2)}i\"\n",
    "        result = f\"{x1} and {x2}\"\n",
    "        return result\n",
    "x = find_x_of_quadratic_equation()\n",
    "print(x)"
   ]
  },
  {
   "cell_type": "code",
   "execution_count": 14,
   "id": "aabf509e",
   "metadata": {},
   "outputs": [
    {
     "name": "stdout",
     "output_type": "stream",
     "text": [
      "5 5\n"
     ]
    }
   ],
   "source": [
    "#Write a Python program to swap two variables without temp variable.\n",
    "a = 3\n",
    "b = 5\n",
    "a =  a + b -a\n",
    "b = \n",
    "print(a,b)"
   ]
  },
  {
   "cell_type": "code",
   "execution_count": 1,
   "id": "828552a4",
   "metadata": {},
   "outputs": [],
   "source": [
    "#Write a Python Program to Check if a Number is Odd or Even."
   ]
  },
  {
   "cell_type": "code",
   "execution_count": 4,
   "id": "07fadb5b",
   "metadata": {},
   "outputs": [
    {
     "name": "stdout",
     "output_type": "stream",
     "text": [
      "Enter a number : 3\n",
      "The given number is odd\n",
      "None\n"
     ]
    }
   ],
   "source": [
    "def find_odd_or_event():\n",
    "    random_number = int(input(\"Enter a number : \"))\n",
    "    if random_number%2 == 0:\n",
    "        print(\"The given number is even\")\n",
    "    else: \n",
    "        print(\"The given number is odd\")\n",
    "print(find_odd_or_event())"
   ]
  },
  {
   "cell_type": "code",
   "execution_count": 10,
   "id": "a415a98a",
   "metadata": {},
   "outputs": [
    {
     "name": "stdout",
     "output_type": "stream",
     "text": [
      "Enter a year : 2024\n",
      "2024 is leap year\n",
      "None\n"
     ]
    }
   ],
   "source": [
    "#Write a Python Program to Check Leap Year.\n",
    "def find_leap_year():\n",
    "    given_year = int(input(\"Enter a year : \"))\n",
    "    if ((given_year%4 == 0) and (given_year%100 != 0)):\n",
    "        print(\"{0} is leap year\".format(given_year))\n",
    "    elif ((given_year%400 ==0 ) and (given_year%100 == 0)):\n",
    "        print(\"{0} is leap year\".format(given_year))\n",
    "    else:\n",
    "        print(\"{0} is not leap year\".format(given_year))\n",
    "find_leap_year = find_leap_year()\n",
    "print(find_leap_year)"
   ]
  },
  {
   "cell_type": "code",
   "execution_count": 8,
   "id": "f3080a41",
   "metadata": {},
   "outputs": [
    {
     "name": "stdout",
     "output_type": "stream",
     "text": [
      "Enter a number : 2\n",
      "2, is a prime number\n"
     ]
    }
   ],
   "source": [
    "#Write a Python Program to Check Prime Number.\n",
    "def check_prime_number():\n",
    "    flag = False\n",
    "    number = int(input(\"Enter a number : \"))\n",
    "    if number == 1:\n",
    "        print(f\"{num}, is not a prime number\")\n",
    "    elif number > 1:\n",
    "        for i in range(2,number):\n",
    "            if number % i == 0:\n",
    "                flag = True\n",
    "    if flag == False:\n",
    "        print(f\"{number}, is a prime number\")\n",
    "\n",
    "prime_number = check_prime_number()\n",
    "                "
   ]
  },
  {
   "cell_type": "code",
   "execution_count": 2,
   "id": "ea696ea1",
   "metadata": {},
   "outputs": [
    {
     "name": "stdout",
     "output_type": "stream",
     "text": [
      "Prime numbers between  1  and  10  are :\n",
      "2\n",
      "3\n",
      "5\n",
      "7\n"
     ]
    }
   ],
   "source": [
    "#Write a Python Program to Print all Prime Numbers in an Interval of 1-10.\n",
    "def prime_numbers():\n",
    "    lower = 1\n",
    "    upper = 10\n",
    "    print(\"Prime numbers between \",lower,\" and \",upper,\" are :\")\n",
    "    for num in range (lower,upper+1):\n",
    "        if (num > 1):\n",
    "            for i in range(2, num):\n",
    "                if num%i ==0:\n",
    "                    break\n",
    "            else:\n",
    "                print(num)\n",
    "\n",
    "numbers = prime_numbers()"
   ]
  },
  {
   "cell_type": "code",
   "execution_count": 13,
   "id": "cde60676",
   "metadata": {},
   "outputs": [
    {
     "name": "stdout",
     "output_type": "stream",
     "text": [
      "Enter a number : -2\n",
      "Factirial does not exist for negative numbers\n"
     ]
    }
   ],
   "source": [
    "#Write a Python Program to Find the Factorial of a Number.\n",
    "def find_factorial():\n",
    "    factorial = 1\n",
    "    number = int(input(\"Enter a number : \"))\n",
    "    if number < 0:\n",
    "        print(\"Factirial does not exist for negative numbers\")\n",
    "    elif number == 0:\n",
    "        print(\"Factorial of 0 is 1\")\n",
    "    else:\n",
    "        for i in range(1,number+1):\n",
    "            factorial = factorial * i\n",
    "        print(f'The factorial of {number} is {factorial}')\n",
    "factorial = find_factorial()"
   ]
  },
  {
   "cell_type": "code",
   "execution_count": 15,
   "id": "56c0b521",
   "metadata": {},
   "outputs": [
    {
     "name": "stdout",
     "output_type": "stream",
     "text": [
      "Enter a number : 5\n",
      "5 X 1 = 5\n",
      "5 X 2 = 10\n",
      "5 X 3 = 15\n",
      "5 X 4 = 20\n",
      "5 X 5 = 25\n",
      "5 X 6 = 30\n",
      "5 X 7 = 35\n",
      "5 X 8 = 40\n",
      "5 X 9 = 45\n",
      "5 X 10 = 50\n"
     ]
    }
   ],
   "source": [
    "#Write a Python Program to Display the multiplication Table.\n",
    "def multiplication_table():\n",
    "    number = int(input(\"Enter a number : \"))\n",
    "    for i in range(1,11):\n",
    "        print(f\"{number} X {i} = {number*i}\")\n",
    "restult = multiplication_table()"
   ]
  },
  {
   "cell_type": "code",
   "execution_count": 2,
   "id": "812d37f1",
   "metadata": {},
   "outputs": [
    {
     "name": "stdout",
     "output_type": "stream",
     "text": [
      "How many terms : 10\n",
      "1\n",
      "2\n",
      "3\n",
      "5\n",
      "8\n",
      "13\n"
     ]
    }
   ],
   "source": [
    "#Write a Python Program to Print the Fibonacci sequence.\n",
    "def fibonacci_sequence():\n",
    "    n1 = 0\n",
    "    n2 = 1\n",
    "    nth = int(input(\"How many terms : \"))\n",
    "    if nth <= 0:\n",
    "        print(\"Enter a positive integer \")\n",
    "    elif nth == 1:\n",
    "        print(f\"Fibinacci sequence upto {nth} term : {n1}\")\n",
    "    else:\n",
    "        for i in range(1,7):\n",
    "            sum = n1 + n2\n",
    "            n1 = n2\n",
    "            n2 = sum\n",
    "            print(sum)\n",
    "fibonacci = fibonacci_sequence()"
   ]
  },
  {
   "cell_type": "code",
   "execution_count": 4,
   "id": "9e9fa625",
   "metadata": {},
   "outputs": [
    {
     "name": "stdout",
     "output_type": "stream",
     "text": [
      "Enter nth number : 100\n",
      "5050.0\n"
     ]
    }
   ],
   "source": [
    "#Write a Python Program to Find the Sum of Natural Numbers.\n",
    "def find_sum_of_natural_number():\n",
    "    nth = int(input(\"Enter nth number : \"))\n",
    "    sum = nth*((nth+1)/2)\n",
    "    print(sum)\n",
    "result = find_sum_of_natural_number()\n"
   ]
  },
  {
   "cell_type": "code",
   "execution_count": 8,
   "id": "1b3b5edb",
   "metadata": {},
   "outputs": [
    {
     "name": "stdout",
     "output_type": "stream",
     "text": [
      "Enter the number: 24\n",
      "Enter the number: 12\n",
      "The L.C.M. is 24\n"
     ]
    }
   ],
   "source": [
    "#Write a Python Program to Find LCM.\n",
    "def find_lcm_of_two_number(x, y):\n",
    "    if x > y:\n",
    "        greater = x\n",
    "    else : \n",
    "        greater = y\n",
    "        \n",
    "    while (True):\n",
    "        if(greater % x == 0 and greater % y == 0):\n",
    "            lcm = greater\n",
    "            break\n",
    "        greater += 1\n",
    "    return lcm\n",
    "num1 = int(input('Enter the number: '))\n",
    "num2 = int(input('Enter the number: '))\n",
    "\n",
    "print(\"The L.C.M. is\", find_lcm_of_two_number(num1, num2))"
   ]
  },
  {
   "cell_type": "code",
   "execution_count": 8,
   "id": "38b00e57",
   "metadata": {},
   "outputs": [
    {
     "name": "stdout",
     "output_type": "stream",
     "text": [
      "Enter first number : 54\n",
      "Enter second number : 24\n",
      "The H.C.F. is 6\n"
     ]
    }
   ],
   "source": [
    "#Write a Python Program to Find HCF.\n",
    "def find_hcf(x, y):\n",
    "    if x < y:\n",
    "        smaller = x\n",
    "    else:\n",
    "        smaller = y\n",
    "    for i in range(1, smaller+1):\n",
    "        if(x % i == 0 and y % i == 0):\n",
    "            hgf = i\n",
    "    return hgf\n",
    "\n",
    "num1 = int(input(\"Enter first number : \"))\n",
    "num2 = int(input(\"Enter second number : \"))\n",
    "result = find_hcf(num1, num2)\n",
    "print(\"The H.C.F. is\",result)"
   ]
  },
  {
   "cell_type": "code",
   "execution_count": 9,
   "id": "40467f90",
   "metadata": {},
   "outputs": [
    {
     "name": "stdout",
     "output_type": "stream",
     "text": [
      "Enter a decimal number: 27\n",
      "The decimal value of 27 is:\n",
      "0b11011 in binary.\n",
      "0o33 in octal.\n",
      "0x1b in hexadecimal.\n"
     ]
    }
   ],
   "source": [
    "#Write a Python Program to Convert Decimal to Binary, Octal and Hexadecimal.\n",
    "dec_num = int(input('Enter a decimal number: '))\n",
    "\n",
    "print(\"The decimal value of\", dec_num, \"is:\")\n",
    "print(bin(dec_num), \"in binary.\")\n",
    "print(oct(dec_num), \"in octal.\")\n",
    "print(hex(dec_num), \"in hexadecimal.\")"
   ]
  },
  {
   "cell_type": "code",
   "execution_count": null,
   "id": "b616e175",
   "metadata": {},
   "outputs": [],
   "source": [
    "#Write a Python Program To Find ASCII value of a character.\n",
    "char = str(input(\"Enter the character : \"))\n",
    "print(\"The ASCII value of '\" + char + \"' is\", ord(char))"
   ]
  },
  {
   "cell_type": "code",
   "execution_count": null,
   "id": "9a741c3c",
   "metadata": {},
   "outputs": [
    {
     "name": "stdout",
     "output_type": "stream",
     "text": [
      "Select operation.\n",
      "1.Add\n",
      "2.Subtract\n",
      "3.Multiply\n",
      "4.Divide\n"
     ]
    }
   ],
   "source": [
    "#Write a Python Program to Make a Simple Calculator with 4 basic mathematical operations.\n",
    "def add(x, y):\n",
    "    return x + y\n",
    "def subtruct(x, y):\n",
    "    return x - y\n",
    "def division(x, y):\n",
    "    return x / y\n",
    "def multiplication(x, y):\n",
    "    return x * y\n",
    "\n",
    "print(\"Select operation.\")\n",
    "print(\"1.Add\")\n",
    "print(\"2.Subtract\")\n",
    "print(\"3.Multiply\")\n",
    "print(\"4.Divide\")\n",
    "\n",
    "while True:\n",
    "    choice = input(\"Enter choice(1/2/3/4): \")\n",
    "    \n",
    "    if choice in('1','2','3','4'):\n",
    "        try:\n",
    "            num1 = int(input(\"Enter first number : \"))\n",
    "            num2 = int(input(\"Enter second number : \"))\n",
    "        except ValueError:\n",
    "            print(\"Invalid input. Please enter a number.\")\n",
    "            continue\n",
    "        if choice == '1':\n",
    "            print(num1, \"+\", num2, \"=\", add(num1, num2))\n",
    "        elif choice == '2':\n",
    "            print(num1, \"-\", num2, \"=\", subtruct(num1, num2))\n",
    "        elif choice == '3':\n",
    "            print(num1, \"x\", num2, \"=\", multiplication(num1, num2))\n",
    "        elif choice == '4':\n",
    "            print(num1, \"/\", num2, \"=\", division(num1, num2))\n",
    "        \n",
    "        next_calculation = input(\"Let's do next calculation? (yes/no): \")\n",
    "        if next_calculation == \"no\":\n",
    "            break\n",
    "    else:\n",
    "        print(\"Invalid input.\")\n",
    "\n",
    "        "
   ]
  },
  {
   "cell_type": "code",
   "execution_count": 5,
   "id": "afaf6107",
   "metadata": {},
   "outputs": [
    {
     "name": "stdout",
     "output_type": "stream",
     "text": [
      "Enter the number of terms (greater than 0): 8\n",
      "0\n",
      "1\n",
      "1\n",
      "2\n",
      "3\n",
      "5\n",
      "8\n",
      "13\n"
     ]
    }
   ],
   "source": [
    "#Write a Python Program to Display Fibonacci Sequence Using Recursion.\n",
    "def fibonacci_sequence(n):\n",
    "    if n <= 1:\n",
    "        return n\n",
    "    else:\n",
    "        return(fibonacci_sequence(n-1)+fibonacci_sequence(n-2))\n",
    "nterms = int(input(\"Enter the number of terms (greater than 0): \"))\n",
    "if nterms <= 0:\n",
    "    print(\"Please enter a positive integer...\")\n",
    "else:\n",
    "    for i in range(nterms):\n",
    "        print(fibonacci_sequence(i))"
   ]
  },
  {
   "cell_type": "code",
   "execution_count": 1,
   "id": "c5be592a",
   "metadata": {},
   "outputs": [
    {
     "name": "stdout",
     "output_type": "stream",
     "text": [
      "24\n"
     ]
    }
   ],
   "source": [
    "#Write a Python Program to Find Factorial of Number Using Recursion.\n",
    "def find_factorial(n):\n",
    "    if n <= 1:\n",
    "        return 1\n",
    "    else:\n",
    "        return(n*find_factorial(n-1))\n",
    "result = find_factorial(4)\n",
    "print(result)"
   ]
  },
  {
   "cell_type": "code",
   "execution_count": 1,
   "id": "1b4b56d5",
   "metadata": {},
   "outputs": [
    {
     "name": "stdout",
     "output_type": "stream",
     "text": [
      "Enter your height in meter : 1.75\n",
      "Enter your weight in kg : 69\n",
      "Your BMI is 22.53\n",
      "Your weight is normal.\n"
     ]
    }
   ],
   "source": [
    "#Write a Python Program to calculate your Body Mass Index.\n",
    "def find_body_mass_index(height,weight):\n",
    "    bmi = round((weight/height**2),2)\n",
    "    return bmi\n",
    "\n",
    "\n",
    "height = float(input(\"Enter your height in meter : \"))\n",
    "weight = float(input(\"Enter your weight in kg : \"))\n",
    "bmi_result = find_body_mass_index(height, weight)\n",
    "print(f\"Your BMI is {bmi_result}\")\n",
    "\n",
    "if bmi_result <= 18.5:\n",
    "    print(\"You are underweight.\")\n",
    "elif 18.5 < bmi_result <= 24.9:\n",
    "    print(\"Your weight is normal.\")\n",
    "elif 25 < bmi_result <= 29.29:\n",
    "    print(\"You are overweight.\")\n",
    "else:\n",
    "    print(\"You are obese.\")"
   ]
  },
  {
   "cell_type": "code",
   "execution_count": 3,
   "id": "02cf39b0",
   "metadata": {},
   "outputs": [
    {
     "name": "stdout",
     "output_type": "stream",
     "text": [
      "Enter a number: 2\n",
      "The natural logarithm of 2.0 is: 0.6931471805599453\n"
     ]
    }
   ],
   "source": [
    "#Write a Python Program to calculate the natural logarithm of any number.\n",
    "import math\n",
    "\n",
    "num = float(input(\"Enter a number: \"))\n",
    "\n",
    "if num <= 0:\n",
    "    print(\"Please enter a positive number.\")\n",
    "else:\n",
    "    # Calculate the natural logarithm (base e) of the number\n",
    "    result = math.log(num)\n",
    "print(f\"The natural logarithm of {num} is: {result}\")"
   ]
  },
  {
   "cell_type": "code",
   "execution_count": 11,
   "id": "9d0b1a28",
   "metadata": {},
   "outputs": [
    {
     "name": "stdout",
     "output_type": "stream",
     "text": [
      "Enter a number : 5\n",
      "The cube sum of the first 5 natural numbers is: 225\n"
     ]
    }
   ],
   "source": [
    "#Write a Python Program for cube sum of first n natural numbers?\n",
    "def cube_sum(n):\n",
    "    if n == 0:\n",
    "        return 0\n",
    "    else:\n",
    "        total = sum([i**3 for i in range(1, n+1)])\n",
    "#         sum = 0\n",
    "#         for i in range(1,n+1):\n",
    "#             print(i)\n",
    "#             sum = sum + (i**3)\n",
    "            \n",
    "        return total\n",
    "num = int(input(\"Enter a number : \"))\n",
    "if num <= 0 :\n",
    "    print(\"Enter a positive number.\")\n",
    "else:\n",
    "    result = cube_sum(num)\n",
    "    print(f\"The cube sum of the first {num} natural numbers is: {result}\")\n"
   ]
  },
  {
   "cell_type": "code",
   "execution_count": 2,
   "id": "5615b5be",
   "metadata": {},
   "outputs": [
    {
     "name": "stdout",
     "output_type": "stream",
     "text": [
      "Sum of array is :  6\n"
     ]
    }
   ],
   "source": [
    "#Write a Python Program to find sum of array.\n",
    "def sum_of_array(arr):\n",
    "    total = sum(arr)\n",
    "    print(\"Sum of array is : \",total)\n",
    "result = sum_of_array([1,2,3])\n",
    "    "
   ]
  },
  {
   "cell_type": "code",
   "execution_count": 4,
   "id": "abd279c7",
   "metadata": {},
   "outputs": [
    {
     "name": "stdout",
     "output_type": "stream",
     "text": [
      "The largest element in the array is: 9\n"
     ]
    }
   ],
   "source": [
    "#Write a Python Program to find largest element in an array.\n",
    "def find_largest_element_of_an_array(arr):\n",
    "    if len(arr) == 0:\n",
    "        print(\"Array is empty.\")\n",
    "    elif len(arr) == 1:\n",
    "        return arr[0]\n",
    "    else:\n",
    "        largest = 0\n",
    "        for i in range(len(arr)):\n",
    "            if largest < arr[i]:\n",
    "                largest = arr[i]\n",
    "        return largest\n",
    "result = find_largest_element_of_an_array([4,7,2,9,3])\n",
    "print(f\"The largest element in the array is: {result}\")            "
   ]
  },
  {
   "cell_type": "code",
   "execution_count": 9,
   "id": "22b15178",
   "metadata": {},
   "outputs": [
    {
     "name": "stdout",
     "output_type": "stream",
     "text": [
      "[4, 5, 1, 2, 3]\n"
     ]
    }
   ],
   "source": [
    "#Write a Python Program for array rotation.\n",
    "def split_and_add(arr,d):\n",
    "    if d < 0 or d > len(arr):\n",
    "        return arr\n",
    "    \n",
    "    first_part = arr[:d]\n",
    "    second_part = arr[d:]\n",
    "    result = second_part + first_part\n",
    "    \n",
    "    return result\n",
    "        \n",
    "            \n",
    "arr = [1, 2, 3, 4, 5]\n",
    "d = 3\n",
    "result = split_and_add(arr,d)\n",
    "print(result)\n"
   ]
  },
  {
   "cell_type": "code",
   "execution_count": 7,
   "id": "af832fa0",
   "metadata": {},
   "outputs": [
    {
     "name": "stdout",
     "output_type": "stream",
     "text": [
      "[4, 5, 1, 2, 3]\n"
     ]
    }
   ],
   "source": [
    "#Write a Python Program for array rotation.\n",
    "def array_rotation(arr,d):\n",
    "    n = len(arr)\n",
    "    rotate_arr = [0]*n\n",
    "    if d < 0 or d > len(arr):\n",
    "        return \"Invalid rotation value\"\n",
    "    \n",
    "    else:\n",
    "        for i  in range(n):\n",
    "            rotate_arr[i] = arr[(i+d)%n]\n",
    "        print(rotate_arr)\n",
    "        \n",
    "            \n",
    "arr = [1, 2, 3, 4, 5]\n",
    "d = 3\n",
    "result = array_rotation(arr,d)"
   ]
  },
  {
   "cell_type": "code",
   "execution_count": 16,
   "id": "9442f574",
   "metadata": {},
   "outputs": [
    {
     "name": "stdout",
     "output_type": "stream",
     "text": [
      "arr1 is monotonic: True\n",
      "arr2 is monotonic: True\n",
      "arr3 is monotonic: False\n"
     ]
    }
   ],
   "source": [
    "#Write a Python Program to check if given array is Monotonic.\n",
    "def is_monotonic(arr):\n",
    "    increasing = decreasing = True\n",
    "    for i in range(1,len(arr)):\n",
    "        if arr[i-1] <= arr[i]:\n",
    "            decreasing = False\n",
    "        elif arr[i-1] >= arr[i]:\n",
    "            increasing = False\n",
    "    return increasing or decreasing\n",
    "        \n",
    "arr1 = [1, 2, 2, 3] \n",
    "arr2 = [3, 2, 1]\n",
    "\n",
    "arr3 = [1, 3, 2, 4]\n",
    "print(\"arr1 is monotonic:\", is_monotonic(arr1))\n",
    "print(\"arr2 is monotonic:\", is_monotonic(arr2))\n",
    "print(\"arr3 is monotonic:\", is_monotonic(arr3))\n",
    "    \n",
    "    "
   ]
  },
  {
   "cell_type": "code",
   "execution_count": 28,
   "id": "a2b21ead",
   "metadata": {},
   "outputs": [
    {
     "name": "stdout",
     "output_type": "stream",
     "text": [
      "Sum of matrices:\n",
      "[10, 10, 10]\n",
      "[10, 10, 10]\n",
      "[10, 10, 10]\n"
     ]
    }
   ],
   "source": [
    "#Write a Python Program to Add Two Matrices.\n",
    "def add_two_matrices(mat1,mat2):\n",
    "    if len(mat1) != len(mat2):\n",
    "        print(\"Matrics must have the same dimention for addition.\")\n",
    "    else:\n",
    "        result = []\n",
    "        for i in range(len(mat1)):\n",
    "            row = []\n",
    "            for j in range(len(mat1[0])):\n",
    "                row.append(mat1[i][j] + mat2[i][j])\n",
    "            result.append(row)\n",
    "        return result\n",
    "matrix1 = [\n",
    "[1, 2, 3],\n",
    "[4, 5, 6],\n",
    "[7, 8, 9]\n",
    "]\n",
    "matrix2 = [\n",
    "[9, 8, 7],\n",
    "[6, 5, 4],\n",
    "[3, 2, 1]\n",
    "]\n",
    "result_matrix = add_two_matrices(matrix1, matrix2)\n",
    "if isinstance(result_matrix, str):\n",
    "    print(result_matrix)\n",
    "else:\n",
    "    print(\"Sum of matrices:\")\n",
    "    for row in result_matrix:\n",
    "        print(row)\n"
   ]
  },
  {
   "cell_type": "code",
   "execution_count": 11,
   "id": "7bb39a2d",
   "metadata": {},
   "outputs": [
    {
     "name": "stdout",
     "output_type": "stream",
     "text": [
      "[30, 69, 90]\n",
      "[30, 69, 90]\n",
      "[30, 69, 90]\n"
     ]
    }
   ],
   "source": [
    "#Write a Python Program to Multiply Two Matrices.\n",
    "def matrices_multipication(mat1, mat2):\n",
    "    if len(mat1[0]) != len(mat2):\n",
    "        return (\"Matrix multiplication is not possible. Number of column\")\n",
    "    else:\n",
    "        result = []\n",
    "        for i in range(len(mat1)):\n",
    "            row = []\n",
    "            for j in range(len(mat2[0])):\n",
    "                sum = 0\n",
    "                for k in range(len(mat1[0])):\n",
    "                    sum +=mat1[j][k]*mat2[k][j]\n",
    "                row.append(sum)\n",
    "            result.append(row)\n",
    "        return result\n",
    "matrix1 = [\n",
    "[1, 2, 3],\n",
    "[4, 5, 6],\n",
    "[7, 8, 9]\n",
    "]\n",
    "matrix2 = [\n",
    "[9, 8, 7],\n",
    "[6, 5, 4],\n",
    "[3, 2, 1]\n",
    "]\n",
    "result = matrices_multipication(matrix1, matrix2)\n",
    "for row in result:\n",
    "    print(row)\n",
    "        "
   ]
  },
  {
   "cell_type": "code",
   "execution_count": 19,
   "id": "9823d915",
   "metadata": {},
   "outputs": [
    {
     "name": "stdout",
     "output_type": "stream",
     "text": [
      "[1, 4, 7]\n",
      "[2, 5, 8]\n",
      "[3, 6, 9]\n"
     ]
    }
   ],
   "source": [
    "#Write a Python Program to Transpose a Matrix.\n",
    "def transpose_matrix(matrix):\n",
    "    tmatrix = []\n",
    "    for i in range(len(matrix)):\n",
    "        row = []\n",
    "        for j in range(len(matrix[0])):\n",
    "            row.append(matrix[j][i])\n",
    "        tmatrix.append(row)\n",
    "    return tmatrix\n",
    "matrix2 = [\n",
    "[9, 8, 7],\n",
    "[6, 5, 4],\n",
    "[3, 2, 1]\n",
    "]\n",
    "result = transpose_matrix(matrix1)\n",
    "for row in result:\n",
    "    print(row)"
   ]
  },
  {
   "cell_type": "code",
   "execution_count": 1,
   "id": "a94249e4",
   "metadata": {},
   "outputs": [
    {
     "name": "stdout",
     "output_type": "stream",
     "text": [
      "Enter a string: sourav singha from narail\n",
      "['Sourav', 'Singha', 'From', 'Narail']\n",
      "Printing the sorted string....\n",
      "From\n",
      "Narail\n",
      "Singha\n",
      "Sourav\n"
     ]
    }
   ],
   "source": [
    "#Write a Python Program to Sort Words in Alphabetic Order.\n",
    "my_str = input(\"Enter a string: \")\n",
    "words = [word.capitalize() for word in my_str.split()]\n",
    "print(words)\n",
    "words.sort()\n",
    "print(\"Printing the sorted string....\")\n",
    "for word in words:\n",
    "    print(word)"
   ]
  },
  {
   "cell_type": "code",
   "execution_count": 9,
   "id": "91a4cb6b",
   "metadata": {},
   "outputs": [
    {
     "name": "stdout",
     "output_type": "stream",
     "text": [
      "Enter any text:Hello!!!, he said ---and went\n",
      "Hello he said and went\n"
     ]
    }
   ],
   "source": [
    "#Write a Python Program to Remove Punctuation From a String.\n",
    "\n",
    "import string\n",
    "punctuations = string.punctuation\n",
    "\n",
    "my_text = str(input(\"Enter any text:\"))\n",
    "\n",
    "for char in my_text:\n",
    "    if char in punctuations:\n",
    "        my_text = my_text.replace(char,\"\")\n",
    "print(my_text)\n"
   ]
  },
  {
   "cell_type": "code",
   "execution_count": 12,
   "id": "13a7dd7b",
   "metadata": {},
   "outputs": [
    {
     "name": "stdout",
     "output_type": "stream",
     "text": [
      "Enter a number:89\n",
      "89 is a Disarium number.\n"
     ]
    }
   ],
   "source": [
    "#Write a Python program to check if the given number is a Disarium Number.\n",
    "def is_disarium(num):\n",
    "    sum = 0\n",
    "    for index,digit in enumerate(num):\n",
    "        sum = sum + (int(digit))**(index+1)\n",
    "    return sum\n",
    "        \n",
    "num = input(\"Enter a number:\")\n",
    "result = is_disarium(num)\n",
    "if result == int(num):\n",
    "    print(f\"{num} is a Disarium number.\")\n",
    "else: \n",
    "    print(f\"{num} is not a Disarium number.\")"
   ]
  },
  {
   "cell_type": "code",
   "execution_count": 16,
   "id": "0f87625d",
   "metadata": {},
   "outputs": [
    {
     "name": "stdout",
     "output_type": "stream",
     "text": [
      "[1, 2, 3, 4, 5, 6, 7, 8, 9, 89]\n"
     ]
    }
   ],
   "source": [
    "#Write a Python program to print all disarium numbers between 1 to 100.\n",
    "disarium_number = []\n",
    "for i in range(1,101):\n",
    "    sum = 0\n",
    "    num = str(i)\n",
    "    for index,digit in enumerate(num):\n",
    "        sum = sum + (int(digit))**(index+1)\n",
    "    if sum == int(num):\n",
    "        disarium_number.append(int(num))\n",
    "print(disarium_number)"
   ]
  },
  {
   "cell_type": "code",
   "execution_count": 5,
   "id": "154ed85e",
   "metadata": {},
   "outputs": [
    {
     "name": "stdout",
     "output_type": "stream",
     "text": [
      "Enter a number :19\n",
      "True\n"
     ]
    }
   ],
   "source": [
    "#Write a Python program to check if the given number is Happy Number.\n",
    "def is_happy_number(num):\n",
    "    seen = set()\n",
    "    while num != 1 and  num not in seen:\n",
    "        seen.add(num)\n",
    "        num = sum(int(digit)**2 for digit in str(num))\n",
    "    return num == 1\n",
    "num = int(input(\"Enter a number :\"))\n",
    "print(is_happy_number(num))"
   ]
  },
  {
   "cell_type": "code",
   "execution_count": 15,
   "id": "7b923686",
   "metadata": {},
   "outputs": [
    {
     "name": "stdout",
     "output_type": "stream",
     "text": [
      "Happy Numbers between 1 and 100:\n",
      "[1, 7, 10, 13, 19, 23, 28, 31, 32, 44, 49, 68, 70, 79, 82, 86, 91, 94, 97, 100]\n"
     ]
    }
   ],
   "source": [
    "#Write a Python program to print all happy numbers between 1 and 100.\n",
    "def is_happy_number(num):\n",
    "    seen = set()\n",
    "    while num != 1 and  num not in seen:\n",
    "        seen.add(num)\n",
    "        num = sum(int(digit)**2 for digit in str(num))\n",
    "    return num == 1\n",
    "happy_numbers = []\n",
    "for num in range(1,101):\n",
    "    if is_happy_number(num):\n",
    "        happy_numbers.append(num)\n",
    "print(\"Happy Numbers between 1 and 100:\")\n",
    "print(happy_numbers)\n"
   ]
  },
  {
   "cell_type": "code",
   "execution_count": null,
   "id": "f6c9cadd",
   "metadata": {},
   "outputs": [],
   "source": [
    "#Write a Python program to determine whether the given number is a Harshad Number.\n",
    "def is_harshad_number(num):\n",
    "    digit_sum = sum(int(digit) for digit in num)\n",
    "    if int(num) % digit_sum == 0:\n",
    "        print(f\"{num} is a harshad number.\")\n",
    "    else:\n",
    "        print(f\"{num} is not a harshad number.\")\n",
    "num = input(\"Enter a number :\")\n",
    "result = is_harshad_number(num)"
   ]
  },
  {
   "cell_type": "code",
   "execution_count": null,
   "id": "af90533b",
   "metadata": {},
   "outputs": [],
   "source": [
    "#Write a Python program to print all pronic numbers between 1 and 100.\n"
   ]
  }
 ],
 "metadata": {
  "kernelspec": {
   "display_name": "Python 3",
   "language": "python",
   "name": "python3"
  },
  "language_info": {
   "codemirror_mode": {
    "name": "ipython",
    "version": 3
   },
   "file_extension": ".py",
   "mimetype": "text/x-python",
   "name": "python",
   "nbconvert_exporter": "python",
   "pygments_lexer": "ipython3",
   "version": "3.8.10"
  }
 },
 "nbformat": 4,
 "nbformat_minor": 5
}
