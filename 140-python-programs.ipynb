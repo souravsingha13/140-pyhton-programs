{
 "cells": [
  {
   "cell_type": "code",
   "execution_count": 3,
   "id": "d3f7fe51",
   "metadata": {},
   "outputs": [
    {
     "name": "stdout",
     "output_type": "stream",
     "text": [
      "Enter first number for addition: 3\n",
      "Enter second number for addition: 4\n",
      "Sum of 3.0 and 4.0 is equal 7.0\n",
      "Enter first number for division: 6\n",
      "Enter second number for division: 2\n",
      "Divison of 6.0 and 2.0 is equal 3.0\n"
     ]
    }
   ],
   "source": [
    "#Write a Python program to do arithmetical operations addition and division.\n",
    "# Addition\n",
    "num1 = float(input(\"Enter first number for addition: \"))\n",
    "num2 = float(input(\"Enter second number for addition: \"))\n",
    "sum_result = num1 + num2\n",
    "print(f\"Sum of {num1} and {num2} is equal {sum_result}\")\n",
    "\n",
    "# Division\n",
    "num3 = float(input(\"Enter first number for division: \"))\n",
    "num4 = float(input(\"Enter second number for division: \"))\n",
    "if(num4 == 0):\n",
    "    print(\"Error: Division by zero is not allowed.\")\n",
    "else:\n",
    "    div_result = num3/num4\n",
    "    print(f\"Divison of {num3} and {num4} is equal {div_result}\")"
   ]
  },
  {
   "cell_type": "code",
   "execution_count": 5,
   "id": "e7b40c0b",
   "metadata": {},
   "outputs": [
    {
     "name": "stdout",
     "output_type": "stream",
     "text": [
      "Enter the base of triangle : 3\n",
      "Enter the base of triangle : 4\n",
      "6.0\n"
     ]
    }
   ],
   "source": [
    "#Write a Python program to find the area of a triangle.\n",
    "\n",
    "def find_triangle_area(base, hieght):\n",
    "    area = 0.5*base*height\n",
    "    return area\n",
    "base = float(input(\"Enter the base of triangle : \"))\n",
    "height = float(input(\"Enter the height of triangle : \"))\n",
    "area = find_triangle_area(base, height)\n",
    "print(area)"
   ]
  },
  {
   "cell_type": "code",
   "execution_count": 2,
   "id": "17567251",
   "metadata": {},
   "outputs": [
    {
     "name": "stdout",
     "output_type": "stream",
     "text": [
      "Enter the first number : 3\n",
      "Enter the second number : 4\n",
      "(4.0, 3.0)\n"
     ]
    }
   ],
   "source": [
    "#Write a Python program to swap two variables.\n",
    "def swap_two_variable(num1, num2):\n",
    "    temp = num1\n",
    "    num1 = num2\n",
    "    num2 = temp\n",
    "    return(num1, num2)\n",
    "num1 = float(input(\"Enter the first number : \"))\n",
    "num2 = float(input(\"Enter the second number : \"))\n",
    "swaped_result = swap_two_variable(num1, num2)\n",
    "print(swaped_result)"
   ]
  },
  {
   "cell_type": "code",
   "execution_count": 4,
   "id": "460cf152",
   "metadata": {},
   "outputs": [
    {
     "name": "stdout",
     "output_type": "stream",
     "text": [
      "Random number: 857\n"
     ]
    }
   ],
   "source": [
    "import random\n",
    "print(f\"Random number: {random.randint(1, 100)}\")"
   ]
  },
  {
   "cell_type": "code",
   "execution_count": 3,
   "id": "75c8ab82",
   "metadata": {},
   "outputs": [
    {
     "name": "stdout",
     "output_type": "stream",
     "text": [
      "How much kilometer you want to convert : 32\n",
      "19.883872\n"
     ]
    }
   ],
   "source": [
    "#Write a Python program to convert kilometers to miles.\n",
    "def kilometers_to_miles():\n",
    "    conversion_factor = 0.621371\n",
    "    kilometers = float(input(\"How much kilometer you want to convert : \"))\n",
    "    return kilometers * conversion_factor\n",
    "\n",
    "miles = kilometers_to_miles()\n",
    "print(miles)"
   ]
  },
  {
   "cell_type": "code",
   "execution_count": 5,
   "id": "04c17af6",
   "metadata": {},
   "outputs": [
    {
     "name": "stdout",
     "output_type": "stream",
     "text": [
      "Enter a temperature in Celsius :37\n",
      "98.60000000000001\n"
     ]
    }
   ],
   "source": [
    "#Write a Python program to convert Celsius to Fahrenheit.\n",
    "def celsius_to_fahrenheit():\n",
    "    celsius = float(input(\"Enter a temperature in Celsius :\"))\n",
    "    fahrenheit = (1.8*celsius) + 32\n",
    "    return fahrenheit\n",
    "\n",
    "fahrenheit = celsius_to_fahrenheit()\n",
    "print(fahrenheit)\n",
    "\n",
    "    \n"
   ]
  },
  {
   "cell_type": "code",
   "execution_count": 13,
   "id": "d153ce50",
   "metadata": {},
   "outputs": [
    {
     "name": "stdout",
     "output_type": "stream",
     "text": [
      "Enter a : 1\n",
      "Enter b : 4\n",
      "Enter c : 8\n",
      "-16.0\n",
      "x1 : -2.0 + 2.0i and x2 : -2.0 - 2.0i\n"
     ]
    }
   ],
   "source": [
    "#Write a Python program to solve quadratic equation.\n",
    "import math\n",
    "def find_x_of_quadratic_equation():\n",
    "    a = float(input(\"Enter a : \"))\n",
    "    b = float(input(\"Enter b : \"))\n",
    "    c = float(input(\"Enter c : \"))\n",
    "    \n",
    "    determinant = b**2 -4*c*a\n",
    "    print(determinant)\n",
    "    if determinant > 0:\n",
    "        x1 = (-b + math.sqrt(determinant))/(2*a)\n",
    "        x2 = (-b - math.sqrt(determinant))/(2*a)\n",
    "        result = f\"x1 : {round(x1,2)} and x2 : {round(x2,2)}\"\n",
    "        return result\n",
    "    if determinant == 0:\n",
    "        x1 = x2 = -b/(2*a)\n",
    "        result = f\"x1 : {round(x1,2)} and x2 : {round(x2,2)}\"\n",
    "        return result\n",
    "    if determinant < 0:\n",
    "        imaginary_part = math.sqrt(abs(determinant))/(2*a)\n",
    "        real_part = -b/(2*a)\n",
    "        x1 = f\"x1 : {round(real_part,2)} + {round(imaginary_part,2)}i\"\n",
    "        x2 = f\"x2 : {round(real_part,2)} - {round(imaginary_part,2)}i\"\n",
    "        result = f\"{x1} and {x2}\"\n",
    "        return result\n",
    "x = find_x_of_quadratic_equation()\n",
    "print(x)"
   ]
  },
  {
   "cell_type": "code",
   "execution_count": 14,
   "id": "aabf509e",
   "metadata": {},
   "outputs": [
    {
     "name": "stdout",
     "output_type": "stream",
     "text": [
      "5 5\n"
     ]
    }
   ],
   "source": [
    "#Write a Python program to swap two variables without temp variable.\n",
    "a = 3\n",
    "b = 5\n",
    "a =  a + b -a\n",
    "b = \n",
    "print(a,b)"
   ]
  },
  {
   "cell_type": "code",
   "execution_count": 1,
   "id": "828552a4",
   "metadata": {},
   "outputs": [],
   "source": [
    "#Write a Python Program to Check if a Number is Odd or Even."
   ]
  },
  {
   "cell_type": "code",
   "execution_count": 4,
   "id": "07fadb5b",
   "metadata": {},
   "outputs": [
    {
     "name": "stdout",
     "output_type": "stream",
     "text": [
      "Enter a number : 3\n",
      "The given number is odd\n",
      "None\n"
     ]
    }
   ],
   "source": [
    "def find_odd_or_event():\n",
    "    random_number = int(input(\"Enter a number : \"))\n",
    "    if random_number%2 == 0:\n",
    "        print(\"The given number is even\")\n",
    "    else: \n",
    "        print(\"The given number is odd\")\n",
    "print(find_odd_or_event())"
   ]
  },
  {
   "cell_type": "code",
   "execution_count": 10,
   "id": "a415a98a",
   "metadata": {},
   "outputs": [
    {
     "name": "stdout",
     "output_type": "stream",
     "text": [
      "Enter a year : 2024\n",
      "2024 is leap year\n",
      "None\n"
     ]
    }
   ],
   "source": [
    "#Write a Python Program to Check Leap Year.\n",
    "def find_leap_year():\n",
    "    given_year = int(input(\"Enter a year : \"))\n",
    "    if ((given_year%4 == 0) and (given_year%100 != 0)):\n",
    "        print(\"{0} is leap year\".format(given_year))\n",
    "    elif ((given_year%400 ==0 ) and (given_year%100 == 0)):\n",
    "        print(\"{0} is leap year\".format(given_year))\n",
    "    else:\n",
    "        print(\"{0} is not leap year\".format(given_year))\n",
    "find_leap_year = find_leap_year()\n",
    "print(find_leap_year)"
   ]
  },
  {
   "cell_type": "code",
   "execution_count": 8,
   "id": "f3080a41",
   "metadata": {},
   "outputs": [
    {
     "name": "stdout",
     "output_type": "stream",
     "text": [
      "Enter a number : 2\n",
      "2, is a prime number\n"
     ]
    }
   ],
   "source": [
    "#Write a Python Program to Check Prime Number.\n",
    "def check_prime_number():\n",
    "    flag = False\n",
    "    number = int(input(\"Enter a number : \"))\n",
    "    if number == 1:\n",
    "        print(f\"{num}, is not a prime number\")\n",
    "    elif number > 1:\n",
    "        for i in range(2,number):\n",
    "            if number % i == 0:\n",
    "                flag = True\n",
    "    if flag == False:\n",
    "        print(f\"{number}, is a prime number\")\n",
    "\n",
    "prime_number = check_prime_number()\n",
    "                "
   ]
  },
  {
   "cell_type": "code",
   "execution_count": 2,
   "id": "ea696ea1",
   "metadata": {},
   "outputs": [
    {
     "name": "stdout",
     "output_type": "stream",
     "text": [
      "Prime numbers between  1  and  10  are :\n",
      "2\n",
      "3\n",
      "5\n",
      "7\n"
     ]
    }
   ],
   "source": [
    "#Write a Python Program to Print all Prime Numbers in an Interval of 1-10.\n",
    "def prime_numbers():\n",
    "    lower = 1\n",
    "    upper = 10\n",
    "    print(\"Prime numbers between \",lower,\" and \",upper,\" are :\")\n",
    "    for num in range (lower,upper+1):\n",
    "        if (num > 1):\n",
    "            for i in range(2, num):\n",
    "                if num%i ==0:\n",
    "                    break\n",
    "            else:\n",
    "                print(num)\n",
    "\n",
    "numbers = prime_numbers()"
   ]
  },
  {
   "cell_type": "code",
   "execution_count": 9,
   "id": "cde60676",
   "metadata": {},
   "outputs": [
    {
     "name": "stdout",
     "output_type": "stream",
     "text": [
      "Enter a number : 4\n",
      "1\n",
      "1\n",
      "2\n",
      "2\n",
      "3\n",
      "6\n",
      "4\n",
      "24\n"
     ]
    }
   ],
   "source": [
    "#Write a Python Program to Find the Factorial of a Number.\n",
    "def find_factorial():\n",
    "    factorial = 1\n",
    "    number = int(input(\"Enter a number : \"))\n",
    "    if number < 0:\n",
    "        print(\"Factirial does not exist for negative numbers\")\n",
    "    elif number == 0:\n",
    "        print(\"Factorial of 0 is 1\")\n",
    "    else:\n",
    "        for i in range(1,number+1):\n",
    "            print(i)\n",
    "            factorial = factorial * i\n",
    "            print(factorial)\n",
    "factorial = find_factorial()"
   ]
  },
  {
   "cell_type": "code",
   "execution_count": null,
   "id": "9bdc36f0",
   "metadata": {},
   "outputs": [],
   "source": []
  }
 ],
 "metadata": {
  "kernelspec": {
   "display_name": "Python 3",
   "language": "python",
   "name": "python3"
  },
  "language_info": {
   "codemirror_mode": {
    "name": "ipython",
    "version": 3
   },
   "file_extension": ".py",
   "mimetype": "text/x-python",
   "name": "python",
   "nbconvert_exporter": "python",
   "pygments_lexer": "ipython3",
   "version": "3.8.10"
  }
 },
 "nbformat": 4,
 "nbformat_minor": 5
}
