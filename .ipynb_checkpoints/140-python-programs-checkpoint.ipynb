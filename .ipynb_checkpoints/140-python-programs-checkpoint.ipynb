{
 "cells": [
  {
   "cell_type": "code",
   "execution_count": 3,
   "id": "d3f7fe51",
   "metadata": {},
   "outputs": [
    {
     "name": "stdout",
     "output_type": "stream",
     "text": [
      "Enter first number for addition: 3\n",
      "Enter second number for addition: 4\n",
      "Sum of 3.0 and 4.0 is equal 7.0\n",
      "Enter first number for division: 6\n",
      "Enter second number for division: 2\n",
      "Divison of 6.0 and 2.0 is equal 3.0\n"
     ]
    }
   ],
   "source": [
    "#Write a Python program to do arithmetical operations addition and division.\n",
    "# Addition\n",
    "num1 = float(input(\"Enter first number for addition: \"))\n",
    "num2 = float(input(\"Enter second number for addition: \"))\n",
    "sum_result = num1 + num2\n",
    "print(f\"Sum of {num1} and {num2} is equal {sum_result}\")\n",
    "\n",
    "# Division\n",
    "num3 = float(input(\"Enter first number for division: \"))\n",
    "num4 = float(input(\"Enter second number for division: \"))\n",
    "if(num4 == 0):\n",
    "    print(\"Error: Division by zero is not allowed.\")\n",
    "else:\n",
    "    div_result = num3/num4\n",
    "    print(f\"Divison of {num3} and {num4} is equal {div_result}\")"
   ]
  },
  {
   "cell_type": "code",
   "execution_count": 5,
   "id": "e7b40c0b",
   "metadata": {},
   "outputs": [
    {
     "name": "stdout",
     "output_type": "stream",
     "text": [
      "Enter the base of triangle : 3\n",
      "Enter the base of triangle : 4\n",
      "6.0\n"
     ]
    }
   ],
   "source": [
    "#Write a Python program to find the area of a triangle.\n",
    "\n",
    "def find_triangle_area(base, hieght):\n",
    "    area = 0.5*base*height\n",
    "    return area\n",
    "base = float(input(\"Enter the base of triangle : \"))\n",
    "height = float(input(\"Enter the height of triangle : \"))\n",
    "area = find_triangle_area(base, height)\n",
    "print(area)"
   ]
  },
  {
   "cell_type": "code",
   "execution_count": 2,
   "id": "17567251",
   "metadata": {},
   "outputs": [
    {
     "name": "stdout",
     "output_type": "stream",
     "text": [
      "Enter the first number : 3\n",
      "Enter the second number : 4\n",
      "(4.0, 3.0)\n"
     ]
    }
   ],
   "source": [
    "#Write a Python program to swap two variables.\n",
    "def swap_two_variable(num1, num2):\n",
    "    temp = num1\n",
    "    num1 = num2\n",
    "    num2 = temp\n",
    "    return(num1, num2)\n",
    "num1 = float(input(\"Enter the first number : \"))\n",
    "num2 = float(input(\"Enter the second number : \"))\n",
    "swaped_result = swap_two_variable(num1, num2)\n",
    "print(swaped_result)"
   ]
  },
  {
   "cell_type": "code",
   "execution_count": 4,
   "id": "460cf152",
   "metadata": {},
   "outputs": [
    {
     "name": "stdout",
     "output_type": "stream",
     "text": [
      "Random number: 857\n"
     ]
    }
   ],
   "source": [
    "import random\n",
    "print(f\"Random number: {random.randint(1, 100)}\")"
   ]
  },
  {
   "cell_type": "code",
   "execution_count": 3,
   "id": "75c8ab82",
   "metadata": {},
   "outputs": [
    {
     "name": "stdout",
     "output_type": "stream",
     "text": [
      "How much kilometer you want to convert : 32\n",
      "19.883872\n"
     ]
    }
   ],
   "source": [
    "#Write a Python program to convert kilometers to miles.\n",
    "def kilometers_to_miles():\n",
    "    conversion_factor = 0.621371\n",
    "    kilometers = float(input(\"How much kilometer you want to convert : \"))\n",
    "    return kilometers * conversion_factor\n",
    "\n",
    "miles = kilometers_to_miles()\n",
    "print(miles)"
   ]
  },
  {
   "cell_type": "code",
   "execution_count": 5,
   "id": "04c17af6",
   "metadata": {},
   "outputs": [
    {
     "name": "stdout",
     "output_type": "stream",
     "text": [
      "Enter a temperature in Celsius :37\n",
      "98.60000000000001\n"
     ]
    }
   ],
   "source": [
    "#Write a Python program to convert Celsius to Fahrenheit.\n",
    "def celsius_to_fahrenheit():\n",
    "    celsius = float(input(\"Enter a temperature in Celsius :\"))\n",
    "    fahrenheit = (1.8*celsius) + 32\n",
    "    return fahrenheit\n",
    "\n",
    "fahrenheit = celsius_to_fahrenheit()\n",
    "print(fahrenheit)\n",
    "\n",
    "    \n"
   ]
  },
  {
   "cell_type": "code",
   "execution_count": 5,
   "id": "d153ce50",
   "metadata": {},
   "outputs": [
    {
     "name": "stdout",
     "output_type": "stream",
     "text": [
      "Enter a : 3\n",
      "Enter b : 4\n",
      "Enter c : 2\n",
      "-8.0\n"
     ]
    }
   ],
   "source": [
    "#Write a Python program to solve quadratic equation.\n",
    "import math\n",
    "def find_x_of_quadratic_equation():\n",
    "    a = float(input(\"Enter a : \"))\n",
    "    b = float(input(\"Enter b : \"))\n",
    "    c = float(input(\"Enter c : \"))\n",
    "    \n",
    "    determinant = b**2 -4*c*a\n",
    "    print(determinant)\n",
    "    if determinant > 0:\n",
    "        x1 = (-b + math.sqrt(determinant))/2a\n",
    "        x2 = (-b - math.sqrt(determinant))/2a\n",
    "    if determinant == 0:\n",
    "        x1 = x2 = -b/2a\n",
    "    if determinant < 0:\n",
    "        imaginary_part = math.sqrt(determinant)/2a\n",
    "        real_part = -b/2a\n",
    "        x1 = f\"x1 : {real_part} + {imaginary_part}i\"\n",
    "        x2 = f\"x1 : {real_part} - {imaginary_part}i\"\n",
    "\n",
    "x = find_x_of_quadratic_equation()"
   ]
  },
  {
   "cell_type": "code",
   "execution_count": null,
   "id": "10886403",
   "metadata": {},
   "outputs": [],
   "source": []
  }
 ],
 "metadata": {
  "kernelspec": {
   "display_name": "Python 3",
   "language": "python",
   "name": "python3"
  },
  "language_info": {
   "codemirror_mode": {
    "name": "ipython",
    "version": 3
   },
   "file_extension": ".py",
   "mimetype": "text/x-python",
   "name": "python",
   "nbconvert_exporter": "python",
   "pygments_lexer": "ipython3",
   "version": "3.8.10"
  }
 },
 "nbformat": 4,
 "nbformat_minor": 5
}
