{
 "cells": [
  {
   "cell_type": "code",
   "execution_count": 3,
   "id": "d3f7fe51",
   "metadata": {},
   "outputs": [
    {
     "name": "stdout",
     "output_type": "stream",
     "text": [
      "Enter first number for addition: 3\n",
      "Enter second number for addition: 4\n",
      "Sum of 3.0 and 4.0 is equal 7.0\n",
      "Enter first number for division: 6\n",
      "Enter second number for division: 2\n",
      "Divison of 6.0 and 2.0 is equal 3.0\n"
     ]
    }
   ],
   "source": [
    "#Write a Python program to do arithmetical operations addition and division.\n",
    "# Addition\n",
    "num1 = float(input(\"Enter first number for addition: \"))\n",
    "num2 = float(input(\"Enter second number for addition: \"))\n",
    "sum_result = num1 + num2\n",
    "print(f\"Sum of {num1} and {num2} is equal {sum_result}\")\n",
    "\n",
    "# Division\n",
    "num3 = float(input(\"Enter first number for division: \"))\n",
    "num4 = float(input(\"Enter second number for division: \"))\n",
    "if(num4 == 0):\n",
    "    print(\"Error: Division by zero is not allowed.\")\n",
    "else:\n",
    "    div_result = num3/num4\n",
    "    print(f\"Divison of {num3} and {num4} is equal {div_result}\")"
   ]
  },
  {
   "cell_type": "code",
   "execution_count": 5,
   "id": "e7b40c0b",
   "metadata": {},
   "outputs": [
    {
     "name": "stdout",
     "output_type": "stream",
     "text": [
      "Enter the base of triangle : 3\n",
      "Enter the base of triangle : 4\n",
      "6.0\n"
     ]
    }
   ],
   "source": [
    "#Write a Python program to find the area of a triangle.\n",
    "\n",
    "def find_triangle_area(base, hieght):\n",
    "    area = 0.5*base*height\n",
    "    return area\n",
    "base = float(input(\"Enter the base of triangle : \"))\n",
    "height = float(input(\"Enter the height of triangle : \"))\n",
    "area = find_triangle_area(base, height)\n",
    "print(area)"
   ]
  },
  {
   "cell_type": "code",
   "execution_count": null,
   "id": "17567251",
   "metadata": {},
   "outputs": [],
   "source": [
    "#Write a Python program to swap two variables.\n",
    "def swap_two_variable(num1, num2):\n",
    "    temp = num1\n",
    "    num1 = num2\n",
    "    num2 = temp\n",
    "    return(num1, num2)\n",
    "num1 = float(input(\"Enter the first number : \"))\n",
    "num2 = float(input(\"Enter the second number : \"))\n",
    "# swaped_result = swap_two_variable(num1, num2)\n",
    "# print(swaped_result)"
   ]
  },
  {
   "cell_type": "code",
   "execution_count": null,
   "id": "460cf152",
   "metadata": {},
   "outputs": [],
   "source": []
  }
 ],
 "metadata": {
  "kernelspec": {
   "display_name": "Python 3",
   "language": "python",
   "name": "python3"
  },
  "language_info": {
   "codemirror_mode": {
    "name": "ipython",
    "version": 3
   },
   "file_extension": ".py",
   "mimetype": "text/x-python",
   "name": "python",
   "nbconvert_exporter": "python",
   "pygments_lexer": "ipython3",
   "version": "3.8.10"
  }
 },
 "nbformat": 4,
 "nbformat_minor": 5
}
