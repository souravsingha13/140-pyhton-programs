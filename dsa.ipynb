{
 "cells": [
  {
   "cell_type": "code",
   "execution_count": 5,
   "id": "5d1f7410",
   "metadata": {},
   "outputs": [
    {
     "name": "stdout",
     "output_type": "stream",
     "text": [
      "Found 9 in position 8\n"
     ]
    }
   ],
   "source": [
    "import math\n",
    "def binary_search(l,x):\n",
    "    left = 0\n",
    "    right = len(l)-1\n",
    "    while left <= right:\n",
    "        mid =((left+right)//2)\n",
    "        if l[mid] == x:\n",
    "            print(f\"Found {x} in position {mid}\")\n",
    "            return mid\n",
    "        elif l[mid]>x:\n",
    "            right = mid -1\n",
    "        else:\n",
    "            left = mid+1\n",
    "    return -1\n",
    "    \n",
    "    \n",
    "l=[1,2,3,4,5,6,7,8,9,10]\n",
    "x = 9\n",
    "result = binary_search(l,x)\n"
   ]
  },
  {
   "cell_type": "code",
   "execution_count": null,
   "id": "2f4411ad",
   "metadata": {},
   "outputs": [],
   "source": []
  }
 ],
 "metadata": {
  "kernelspec": {
   "display_name": "Python 3",
   "language": "python",
   "name": "python3"
  },
  "language_info": {
   "codemirror_mode": {
    "name": "ipython",
    "version": 3
   },
   "file_extension": ".py",
   "mimetype": "text/x-python",
   "name": "python",
   "nbconvert_exporter": "python",
   "pygments_lexer": "ipython3",
   "version": "3.8.10"
  }
 },
 "nbformat": 4,
 "nbformat_minor": 5
}
